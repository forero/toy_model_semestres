{
 "cells": [
  {
   "cell_type": "code",
   "execution_count": 2,
   "metadata": {
    "collapsed": true
   },
   "outputs": [],
   "source": [
    "import numpy as np\n",
    "import matplotlib.pyplot as plt\n",
    "%matplotlib inline"
   ]
  },
  {
   "cell_type": "code",
   "execution_count": 22,
   "metadata": {
    "collapsed": false
   },
   "outputs": [],
   "source": []
  },
  {
   "cell_type": "code",
   "execution_count": 50,
   "metadata": {
    "collapsed": false
   },
   "outputs": [],
   "source": [
    "def carrera(max_creditos = 135, max_creditos_semestre = 21, creditos_materia = 3, proba_pasar_materia = 1.0):\n",
    "    creditos_total = 0\n",
    "    semestre = 0\n",
    "    while(creditos_total < max_creditos):\n",
    "    \n",
    "        creditos_semestre = 0\n",
    "        materias = 0\n",
    "        while(creditos_semestre < max_creditos_semestre and creditos_total < max_creditos):\n",
    "            materias = materias + 1\n",
    "            creditos_semestre = creditos_semestre + creditos_materia\n",
    "            if(np.random.random()<proba_pasar_materia):\n",
    "                creditos_total = creditos_total + creditos_materia\n",
    "           \n",
    "\n",
    "        semestre = semestre+1\n",
    "        #print(semestre, materias, creditos_total, creditos_semestre)\n",
    "    return semestre, materias\n",
    "    "
   ]
  },
  {
   "cell_type": "code",
   "execution_count": 129,
   "metadata": {
    "collapsed": false
   },
   "outputs": [],
   "source": [
    "n_students = 15000\n",
    "sem = np.zeros(n_students)\n",
    "mat = np.zeros(n_students)\n",
    "\n",
    "sem_B = np.zeros(n_students)\n",
    "mat_B = np.zeros(n_students)"
   ]
  },
  {
   "cell_type": "code",
   "execution_count": 148,
   "metadata": {
    "collapsed": false
   },
   "outputs": [
    {
     "name": "stdout",
     "output_type": "stream",
     "text": [
      "0.82737100892 0.603027679483\n"
     ]
    },
    {
     "data": {
      "image/png": "[encoded data removed]",
      "text/plain": [
       "<matplotlib.figure.Figure at 0x7f0a724e15c0>"
      ]
     },
     "metadata": {},
     "output_type": "display_data"
    }
   ],
   "source": [
    "for i in range(n_students):\n",
    "    sem[i], mat[i] = carrera(proba_pasar_materia=1.0)\n",
    "    sem_B[i], mat_B[i] = carrera(proba_pasar_materia=0.8)\n",
    "a = plt.hist(sem, bins=np.arange(6,10))\n",
    "a = plt.hist(sem_B, bins=np.arange(6,17))\n",
    "print(sem.mean()/sem_B.mean(), sem_B.std())"
   ]
  },
  {
   "cell_type": "code",
   "execution_count": 149,
   "metadata": {
    "collapsed": false
   },
   "outputs": [
    {
     "name": "stdout",
     "output_type": "stream",
     "text": [
      "0.856136459998 0.483594246818\n"
     ]
    },
    {
     "data": {
      "image/png": "[encoded data removed]",
      "text/plain": [
       "<matplotlib.figure.Figure at 0x7f0a726d8ba8>"
      ]
     },
     "metadata": {},
     "output_type": "display_data"
    }
   ],
   "source": [
    "for i in range(n_students):\n",
    "    sem[i], mat[i] = carrera(creditos_materia=2.0, proba_pasar_materia=1.0)\n",
    "    sem_B[i], mat_B[i] = carrera(creditos_materia=2.0, proba_pasar_materia=0.8)\n",
    "a = plt.hist(sem, bins=np.arange(6,10))\n",
    "a = plt.hist(sem_B, bins=np.arange(6,17))\n",
    "print(sem.mean()/sem_B.mean(), sem_B.std())"
   ]
  },
  {
   "cell_type": "code",
   "execution_count": null,
   "metadata": {
    "collapsed": true
   },
   "outputs": [],
   "source": []
  }
 ],
 "metadata": {
  "kernelspec": {
   "display_name": "Python [conda root]",
   "language": "python",
   "name": "conda-root-py"
  },
  "language_info": {
   "codemirror_mode": {
    "name": "ipython",
    "version": 3
   },
   "file_extension": ".py",
   "mimetype": "text/x-python",
   "name": "python",
   "nbconvert_exporter": "python",
   "pygments_lexer": "ipython3",
   "version": "3.5.2"
  }
 },
 "nbformat": 4,
 "nbformat_minor": 2
}
